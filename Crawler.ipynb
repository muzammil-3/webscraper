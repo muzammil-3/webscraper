{
 "cells": [
  {
   "cell_type": "markdown",
   "metadata": {},
   "source": [
    "#   Extracting TOP MOVIES from IMDB websites using selenium"
   ]
  },
  {
   "cell_type": "code",
   "execution_count": 2,
   "metadata": {},
   "outputs": [],
   "source": [
    "import sqlite3\n",
    "import numpy as np\n",
    "import pandas as pd\n",
    "from bs4 import BeautifulSoup\n",
    "from selenium import webdriver\n",
    "from selenium.webdriver.common.by import By\n",
    "driver = webdriver.Chrome()\n",
    "driver.get('https://www.imdb.com/list/ls041667789/')\n",
    "results = []\n",
    "url_result = []\n",
    "total_profit = []\n",
    "content = driver.page_source\n",
    "soup = BeautifulSoup(content, 'html.parser')"
   ]
  },
  {
   "cell_type": "code",
   "execution_count": 2,
   "metadata": {},
   "outputs": [],
   "source": [
    "for element in soup.find_all(attrs={'class': 'lister-item-header'}):\n",
    "    name = element.find('a')\n",
    "    if name is not None:\n",
    "        name_text = name.text   \n",
    "        url = 'https://www.imdb.com' + name.get('href')\n",
    "        results.append(name_text)\n",
    "        url_result.append(url)"
   ]
  },
  {
   "cell_type": "code",
   "execution_count": 3,
   "metadata": {},
   "outputs": [
    {
     "data": {
      "text/plain": [
       "array([['12 Angry Men'],\n",
       "       ['12 Years a Slave'],\n",
       "       [\"A Hard Day's Night\"],\n",
       "       ['A Streetcar Named Desire'],\n",
       "       ['Alien'],\n",
       "       ['Aliens'],\n",
       "       ['All About Eve'],\n",
       "       ['All Quiet on the Western Front'],\n",
       "       ['Argo'],\n",
       "       ['Army of Shadows'],\n",
       "       ['Arrival'],\n",
       "       ['Baby Driver'],\n",
       "       ['Bicycle Thieves'],\n",
       "       ['Boyhood'],\n",
       "       ['Brooklyn'],\n",
       "       ['Captain America: Civil War'],\n",
       "       ['Casablanca'],\n",
       "       ['Citizen Kane'],\n",
       "       ['Creed'],\n",
       "       ['Dr. Strangelove or: How I Learned to Stop Worrying and Love the Bomb'],\n",
       "       ['E.T. the Extra-Terrestrial'],\n",
       "       ['Finding Dory'],\n",
       "       ['Finding Nemo'],\n",
       "       ['Frankenstein'],\n",
       "       ['The Bride of Frankenstein'],\n",
       "       ['Get Out'],\n",
       "       ['Gravity'],\n",
       "       ['Harry Potter and the Deathly Hallows: Part 2'],\n",
       "       ['Hell or High Water'],\n",
       "       ['High Noon'],\n",
       "       ['I Am Not Your Negro'],\n",
       "       ['Inside Out'],\n",
       "       ['It Happened One Night'],\n",
       "       ['Jaws'],\n",
       "       ['King Kong'],\n",
       "       ['L.A. Confidential'],\n",
       "       ['The Grand Illusion'],\n",
       "       ['La La Land'],\n",
       "       ['Laura'],\n",
       "       ['Lawrence of Arabia'],\n",
       "       ['Logan'],\n",
       "       ['M'],\n",
       "       ['Mad Max: Fury Road'],\n",
       "       ['Manchester by the Sea'],\n",
       "       ['Metropolis'],\n",
       "       ['Modern Times'],\n",
       "       ['Moonlight'],\n",
       "       ['North by Northwest'],\n",
       "       ['Nosferatu'],\n",
       "       ['On the Waterfront'],\n",
       "       ['Rome, Open City'],\n",
       "       ['Pinocchio'],\n",
       "       ['Psycho'],\n",
       "       ['Rashomon'],\n",
       "       ['Rear Window'],\n",
       "       ['Rebecca'],\n",
       "       ['Repulsion'],\n",
       "       ['Roman Holiday'],\n",
       "       [\"Rosemary's Baby\"],\n",
       "       ['Selma'],\n",
       "       ['Seven Samurai'],\n",
       "       [\"Singin' in the Rain\"],\n",
       "       ['Snow White and the Seven Dwarfs'],\n",
       "       ['Spider-Man: Homecoming'],\n",
       "       ['Spotlight'],\n",
       "       ['Star Wars: Episode VII - The Force Awakens'],\n",
       "       ['Sunset Boulevard'],\n",
       "       ['Taxi Driver'],\n",
       "       ['The 400 Blows'],\n",
       "       ['The Adventures of Robin Hood'],\n",
       "       ['The Babadook'],\n",
       "       ['The Battle of Algiers'],\n",
       "       ['The Big Sick'],\n",
       "       ['The Big Sleep'],\n",
       "       ['The Cabinet of Dr. Caligari'],\n",
       "       ['The Dark Knight'],\n",
       "       ['The Godfather'],\n",
       "       ['The Good, the Bad and the Ugly'],\n",
       "       ['The Grapes of Wrath'],\n",
       "       ['The Hurt Locker'],\n",
       "       ['The Jungle Book'],\n",
       "       ['The Lady Vanishes'],\n",
       "       ['The Last Picture Show'],\n",
       "       ['The Maltese Falcon'],\n",
       "       ['The Night of the Hunter'],\n",
       "       ['The Philadelphia Story'],\n",
       "       ['The Third Man'],\n",
       "       ['The Treasure of the Sierra Madre'],\n",
       "       ['The Wages of Fear'],\n",
       "       ['The Wizard of Oz'],\n",
       "       ['The Wrestler'],\n",
       "       ['Tokyo Story'],\n",
       "       ['Touch of Evil'],\n",
       "       ['Toy Story 3'],\n",
       "       ['Toy Story 2'],\n",
       "       ['Up'],\n",
       "       ['Vertigo'],\n",
       "       ['War for the Planet of the Apes'],\n",
       "       ['Wonder Woman'],\n",
       "       ['Zootopia']], dtype='<U68')"
      ]
     },
     "execution_count": 3,
     "metadata": {},
     "output_type": "execute_result"
    }
   ],
   "source": [
    "res = np.array(results)\n",
    "res.reshape(100,1)"
   ]
  },
  {
   "cell_type": "code",
   "execution_count": 4,
   "metadata": {},
   "outputs": [],
   "source": [
    "driver.get(url_result[0])"
   ]
  },
  {
   "cell_type": "code",
   "execution_count": 5,
   "metadata": {},
   "outputs": [],
   "source": [
    "story = driver.find_element(By.CSS_SELECTOR, 'p.sc-466bb6c-3.llCpwq').text\n",
    "stor = np.array([story] + [None] * 99)"
   ]
  },
  {
   "cell_type": "code",
   "execution_count": 6,
   "metadata": {},
   "outputs": [],
   "source": [
    "data = {'Names': res, 'URL': url_result, 'Story':stor}\n",
    "df = pd.DataFrame(data, columns=['Names','URL','Story'])\n",
    "# df.to_csv('names.csv', index=False, encoding='utf-8')"
   ]
  },
  {
   "cell_type": "code",
   "execution_count": 8,
   "metadata": {},
   "outputs": [],
   "source": [
    "conn = sqlite3.connect('mydatabase.db')\n",
    "cursor = conn.cursor()\n",
    "\n",
    "cursor.execute('''CREATE TABLE IF NOT EXISTS movie_data\n",
    "               (Names TEXT, URL TEXT, STORY TEXT)''')   \n",
    "df.to_sql('movie_data',conn,if_exists='replace',index='False')\n",
    "\n",
    "conn.commit()\n",
    "conn.close()"
   ]
  },
  {
   "cell_type": "code",
   "execution_count": 9,
   "metadata": {},
   "outputs": [],
   "source": [
    "driver.quit()"
   ]
  },
  {
   "cell_type": "code",
   "execution_count": 15,
   "metadata": {},
   "outputs": [
    {
     "data": {
      "text/plain": [
       "(1, 2, 3)"
      ]
     },
     "execution_count": 15,
     "metadata": {},
     "output_type": "execute_result"
    }
   ],
   "source": [
    "a = np.array([[[1,2,3],[4,5,6]]])\n",
    "a.shape"
   ]
  },
  {
   "cell_type": "code",
   "execution_count": 16,
   "metadata": {},
   "outputs": [
    {
     "data": {
      "text/plain": [
       "array([9, 7, 6, 5, 3, 2, 1])"
      ]
     },
     "execution_count": 16,
     "metadata": {},
     "output_type": "execute_result"
    }
   ],
   "source": [
    "arr = np.array([2, 6, 1, 9, 3, 7, 5])\n",
    "np.sort(arr)[::-1]"
   ]
  }
 ],
 "metadata": {
  "kernelspec": {
   "display_name": ".myvenv",
   "language": "python",
   "name": "python3"
  },
  "language_info": {
   "codemirror_mode": {
    "name": "ipython",
    "version": 3
   },
   "file_extension": ".py",
   "mimetype": "text/x-python",
   "name": "python",
   "nbconvert_exporter": "python",
   "pygments_lexer": "ipython3",
   "version": "3.11.5"
  },
  "orig_nbformat": 4
 },
 "nbformat": 4,
 "nbformat_minor": 2
}
